{
 "cells": [
  {
   "cell_type": "markdown",
   "id": "e9111ac1",
   "metadata": {},
   "source": [
    "# importing the librarys"
   ]
  },
  {
   "cell_type": "code",
   "execution_count": 1,
   "id": "776849ed",
   "metadata": {},
   "outputs": [],
   "source": [
    "import pandas as pd\n",
    "import numpy as np\n",
    "import matplotlib.pyplot as plt\n",
    "import seaborn as sns\n",
    "import warnings\n",
    "warnings.filterwarnings(\"ignore\")"
   ]
  },
  {
   "cell_type": "code",
   "execution_count": 2,
   "id": "20d288ff",
   "metadata": {},
   "outputs": [
    {
     "data": {
      "text/html": [
       "<div>\n",
       "<style scoped>\n",
       "    .dataframe tbody tr th:only-of-type {\n",
       "        vertical-align: middle;\n",
       "    }\n",
       "\n",
       "    .dataframe tbody tr th {\n",
       "        vertical-align: top;\n",
       "    }\n",
       "\n",
       "    .dataframe thead th {\n",
       "        text-align: right;\n",
       "    }\n",
       "</style>\n",
       "<table border=\"1\" class=\"dataframe\">\n",
       "  <thead>\n",
       "    <tr style=\"text-align: right;\">\n",
       "      <th></th>\n",
       "      <th>City</th>\n",
       "      <th>Date</th>\n",
       "      <th>PM2.5</th>\n",
       "      <th>PM10</th>\n",
       "      <th>NO</th>\n",
       "      <th>NO2</th>\n",
       "      <th>NOx</th>\n",
       "      <th>NH3</th>\n",
       "      <th>CO</th>\n",
       "      <th>SO2</th>\n",
       "      <th>O3</th>\n",
       "      <th>Benzene</th>\n",
       "      <th>Toluene</th>\n",
       "      <th>Xylene</th>\n",
       "      <th>AQI</th>\n",
       "      <th>AQI_Bucket</th>\n",
       "    </tr>\n",
       "  </thead>\n",
       "  <tbody>\n",
       "    <tr>\n",
       "      <th>0</th>\n",
       "      <td>Delhi</td>\n",
       "      <td>1-1-215</td>\n",
       "      <td>313.22</td>\n",
       "      <td>67.98</td>\n",
       "      <td>69.16</td>\n",
       "      <td>36.39</td>\n",
       "      <td>11.59</td>\n",
       "      <td>33.85</td>\n",
       "      <td>15.20</td>\n",
       "      <td>9.25</td>\n",
       "      <td>41.68</td>\n",
       "      <td>14.36</td>\n",
       "      <td>24.86</td>\n",
       "      <td>9.84</td>\n",
       "      <td>472</td>\n",
       "      <td>Severe</td>\n",
       "    </tr>\n",
       "    <tr>\n",
       "      <th>1</th>\n",
       "      <td>Delhi</td>\n",
       "      <td>2-1-215</td>\n",
       "      <td>186.18</td>\n",
       "      <td>269.55</td>\n",
       "      <td>62.90</td>\n",
       "      <td>32.87</td>\n",
       "      <td>88.14</td>\n",
       "      <td>31.83</td>\n",
       "      <td>9.54</td>\n",
       "      <td>6.65</td>\n",
       "      <td>29.97</td>\n",
       "      <td>1.55</td>\n",
       "      <td>2.90</td>\n",
       "      <td>4.29</td>\n",
       "      <td>454</td>\n",
       "      <td>Severe</td>\n",
       "    </tr>\n",
       "    <tr>\n",
       "      <th>2</th>\n",
       "      <td>Delhi</td>\n",
       "      <td>3-1-215</td>\n",
       "      <td>87.18</td>\n",
       "      <td>131.90</td>\n",
       "      <td>25.73</td>\n",
       "      <td>3.31</td>\n",
       "      <td>47.95</td>\n",
       "      <td>69.55</td>\n",
       "      <td>1.61</td>\n",
       "      <td>2.65</td>\n",
       "      <td>19.71</td>\n",
       "      <td>3.91</td>\n",
       "      <td>1.23</td>\n",
       "      <td>1.99</td>\n",
       "      <td>143</td>\n",
       "      <td>Moderate</td>\n",
       "    </tr>\n",
       "    <tr>\n",
       "      <th>3</th>\n",
       "      <td>Delhi</td>\n",
       "      <td>4-1-215</td>\n",
       "      <td>151.84</td>\n",
       "      <td>241.84</td>\n",
       "      <td>25.10</td>\n",
       "      <td>36.91</td>\n",
       "      <td>48.62</td>\n",
       "      <td>13.36</td>\n",
       "      <td>11.54</td>\n",
       "      <td>4.63</td>\n",
       "      <td>25.36</td>\n",
       "      <td>4.26</td>\n",
       "      <td>9.71</td>\n",
       "      <td>3.34</td>\n",
       "      <td>319</td>\n",
       "      <td>Very Poor</td>\n",
       "    </tr>\n",
       "    <tr>\n",
       "      <th>4</th>\n",
       "      <td>Delhi</td>\n",
       "      <td>5-1-215</td>\n",
       "      <td>146.60</td>\n",
       "      <td>219.13</td>\n",
       "      <td>14.10</td>\n",
       "      <td>34.92</td>\n",
       "      <td>38.25</td>\n",
       "      <td>122.88</td>\n",
       "      <td>9.20</td>\n",
       "      <td>3.33</td>\n",
       "      <td>23.20</td>\n",
       "      <td>2.80</td>\n",
       "      <td>6.21</td>\n",
       "      <td>2.96</td>\n",
       "      <td>325</td>\n",
       "      <td>Very Poor</td>\n",
       "    </tr>\n",
       "    <tr>\n",
       "      <th>...</th>\n",
       "      <td>...</td>\n",
       "      <td>...</td>\n",
       "      <td>...</td>\n",
       "      <td>...</td>\n",
       "      <td>...</td>\n",
       "      <td>...</td>\n",
       "      <td>...</td>\n",
       "      <td>...</td>\n",
       "      <td>...</td>\n",
       "      <td>...</td>\n",
       "      <td>...</td>\n",
       "      <td>...</td>\n",
       "      <td>...</td>\n",
       "      <td>...</td>\n",
       "      <td>...</td>\n",
       "      <td>...</td>\n",
       "    </tr>\n",
       "    <tr>\n",
       "      <th>6104</th>\n",
       "      <td>Patna</td>\n",
       "      <td>27-06-2022</td>\n",
       "      <td>17.71</td>\n",
       "      <td>63.73</td>\n",
       "      <td>9.47</td>\n",
       "      <td>23.10</td>\n",
       "      <td>22.28</td>\n",
       "      <td>1.91</td>\n",
       "      <td>0.87</td>\n",
       "      <td>3.63</td>\n",
       "      <td>23.39</td>\n",
       "      <td>1.90</td>\n",
       "      <td>3.70</td>\n",
       "      <td>0.97</td>\n",
       "      <td>65</td>\n",
       "      <td>Satisfactory</td>\n",
       "    </tr>\n",
       "    <tr>\n",
       "      <th>6105</th>\n",
       "      <td>Patna</td>\n",
       "      <td>28-06-2022</td>\n",
       "      <td>19.27</td>\n",
       "      <td>57.42</td>\n",
       "      <td>3.19</td>\n",
       "      <td>18.13</td>\n",
       "      <td>36.76</td>\n",
       "      <td>2.50</td>\n",
       "      <td>0.72</td>\n",
       "      <td>3.92</td>\n",
       "      <td>17.37</td>\n",
       "      <td>1.18</td>\n",
       "      <td>2.90</td>\n",
       "      <td>1.24</td>\n",
       "      <td>82</td>\n",
       "      <td>Satisfactory</td>\n",
       "    </tr>\n",
       "    <tr>\n",
       "      <th>6106</th>\n",
       "      <td>Patna</td>\n",
       "      <td>29-06-2022</td>\n",
       "      <td>17.24</td>\n",
       "      <td>42.83</td>\n",
       "      <td>42.40</td>\n",
       "      <td>2.51</td>\n",
       "      <td>47.69</td>\n",
       "      <td>2.26</td>\n",
       "      <td>0.88</td>\n",
       "      <td>3.60</td>\n",
       "      <td>17.50</td>\n",
       "      <td>1.51</td>\n",
       "      <td>4.91</td>\n",
       "      <td>1.74</td>\n",
       "      <td>88</td>\n",
       "      <td>Satisfactory</td>\n",
       "    </tr>\n",
       "    <tr>\n",
       "      <th>6107</th>\n",
       "      <td>Patna</td>\n",
       "      <td>03-06-2022</td>\n",
       "      <td>29.76</td>\n",
       "      <td>6.68</td>\n",
       "      <td>42.12</td>\n",
       "      <td>27.50</td>\n",
       "      <td>52.40</td>\n",
       "      <td>1.59</td>\n",
       "      <td>0.83</td>\n",
       "      <td>3.91</td>\n",
       "      <td>21.70</td>\n",
       "      <td>1.58</td>\n",
       "      <td>8.59</td>\n",
       "      <td>2.20</td>\n",
       "      <td>93</td>\n",
       "      <td>Satisfactory</td>\n",
       "    </tr>\n",
       "    <tr>\n",
       "      <th>6108</th>\n",
       "      <td>Patna</td>\n",
       "      <td>01-07-2022</td>\n",
       "      <td>35.42</td>\n",
       "      <td>57.82</td>\n",
       "      <td>44.50</td>\n",
       "      <td>31.15</td>\n",
       "      <td>57.72</td>\n",
       "      <td>1.14</td>\n",
       "      <td>0.82</td>\n",
       "      <td>3.99</td>\n",
       "      <td>25.76</td>\n",
       "      <td>1.73</td>\n",
       "      <td>5.50</td>\n",
       "      <td>2.14</td>\n",
       "      <td>98</td>\n",
       "      <td>Satisfactory</td>\n",
       "    </tr>\n",
       "  </tbody>\n",
       "</table>\n",
       "<p>6109 rows × 16 columns</p>\n",
       "</div>"
      ],
      "text/plain": [
       "       City        Date   PM2.5    PM10     NO    NO2    NOx     NH3     CO  \\\n",
       "0     Delhi     1-1-215  313.22   67.98  69.16  36.39  11.59   33.85  15.20   \n",
       "1     Delhi     2-1-215  186.18  269.55  62.90  32.87  88.14   31.83   9.54   \n",
       "2     Delhi     3-1-215   87.18  131.90  25.73   3.31  47.95   69.55   1.61   \n",
       "3     Delhi     4-1-215  151.84  241.84  25.10  36.91  48.62   13.36  11.54   \n",
       "4     Delhi     5-1-215  146.60  219.13  14.10  34.92  38.25  122.88   9.20   \n",
       "...     ...         ...     ...     ...    ...    ...    ...     ...    ...   \n",
       "6104  Patna  27-06-2022   17.71   63.73   9.47  23.10  22.28    1.91   0.87   \n",
       "6105  Patna  28-06-2022   19.27   57.42   3.19  18.13  36.76    2.50   0.72   \n",
       "6106  Patna  29-06-2022   17.24   42.83  42.40   2.51  47.69    2.26   0.88   \n",
       "6107  Patna  03-06-2022   29.76    6.68  42.12  27.50  52.40    1.59   0.83   \n",
       "6108  Patna  01-07-2022   35.42   57.82  44.50  31.15  57.72    1.14   0.82   \n",
       "\n",
       "       SO2     O3  Benzene  Toluene  Xylene  AQI    AQI_Bucket  \n",
       "0     9.25  41.68    14.36    24.86    9.84  472        Severe  \n",
       "1     6.65  29.97     1.55     2.90    4.29  454        Severe  \n",
       "2     2.65  19.71     3.91     1.23    1.99  143      Moderate  \n",
       "3     4.63  25.36     4.26     9.71    3.34  319     Very Poor  \n",
       "4     3.33  23.20     2.80     6.21    2.96  325     Very Poor  \n",
       "...    ...    ...      ...      ...     ...  ...           ...  \n",
       "6104  3.63  23.39     1.90     3.70    0.97   65  Satisfactory  \n",
       "6105  3.92  17.37     1.18     2.90    1.24   82  Satisfactory  \n",
       "6106  3.60  17.50     1.51     4.91    1.74   88  Satisfactory  \n",
       "6107  3.91  21.70     1.58     8.59    2.20   93  Satisfactory  \n",
       "6108  3.99  25.76     1.73     5.50    2.14   98  Satisfactory  \n",
       "\n",
       "[6109 rows x 16 columns]"
      ]
     },
     "execution_count": 2,
     "metadata": {},
     "output_type": "execute_result"
    }
   ],
   "source": [
    "df=pd.read_csv(r\"C:\\Users\\Ramana Reddy (Rakhi)\\Downloads\\Copy of Delhi,Hydderabad,Mumbai,Patna.csv\")\n",
    "df"
   ]
  },
  {
   "cell_type": "code",
   "execution_count": 3,
   "id": "e5194460",
   "metadata": {},
   "outputs": [
    {
     "name": "stdout",
     "output_type": "stream",
     "text": [
      "<class 'pandas.core.frame.DataFrame'>\n",
      "RangeIndex: 6109 entries, 0 to 6108\n",
      "Data columns (total 16 columns):\n",
      " #   Column      Non-Null Count  Dtype  \n",
      "---  ------      --------------  -----  \n",
      " 0   City        6109 non-null   object \n",
      " 1   Date        6109 non-null   object \n",
      " 2   PM2.5       6101 non-null   float64\n",
      " 3   PM10        4517 non-null   float64\n",
      " 4   NO          6069 non-null   float64\n",
      " 5   NO2         6068 non-null   float64\n",
      " 6   NOx         6091 non-null   float64\n",
      " 7   NH3         4208 non-null   float64\n",
      " 8   CO          5979 non-null   float64\n",
      " 9   SO2         5996 non-null   float64\n",
      " 10  O3          5953 non-null   float64\n",
      " 11  Benzene     5937 non-null   float64\n",
      " 12  Toluene     5093 non-null   float64\n",
      " 13  Xylene      5143 non-null   float64\n",
      " 14  AQI         6109 non-null   int64  \n",
      " 15  AQI_Bucket  6109 non-null   object \n",
      "dtypes: float64(12), int64(1), object(3)\n",
      "memory usage: 763.8+ KB\n"
     ]
    }
   ],
   "source": [
    "df.info()"
   ]
  },
  {
   "cell_type": "markdown",
   "id": "e8e891f6",
   "metadata": {},
   "source": [
    "# STATISTICAL VALUES OF A DATA"
   ]
  },
  {
   "cell_type": "code",
   "execution_count": 4,
   "id": "67a9ac49",
   "metadata": {},
   "outputs": [
    {
     "data": {
      "text/html": [
       "<div>\n",
       "<style scoped>\n",
       "    .dataframe tbody tr th:only-of-type {\n",
       "        vertical-align: middle;\n",
       "    }\n",
       "\n",
       "    .dataframe tbody tr th {\n",
       "        vertical-align: top;\n",
       "    }\n",
       "\n",
       "    .dataframe thead th {\n",
       "        text-align: right;\n",
       "    }\n",
       "</style>\n",
       "<table border=\"1\" class=\"dataframe\">\n",
       "  <thead>\n",
       "    <tr style=\"text-align: right;\">\n",
       "      <th></th>\n",
       "      <th>PM2.5</th>\n",
       "      <th>PM10</th>\n",
       "      <th>NO</th>\n",
       "      <th>NO2</th>\n",
       "      <th>NOx</th>\n",
       "      <th>NH3</th>\n",
       "      <th>CO</th>\n",
       "      <th>SO2</th>\n",
       "      <th>O3</th>\n",
       "      <th>Benzene</th>\n",
       "      <th>Toluene</th>\n",
       "      <th>Xylene</th>\n",
       "      <th>AQI</th>\n",
       "    </tr>\n",
       "  </thead>\n",
       "  <tbody>\n",
       "    <tr>\n",
       "      <th>count</th>\n",
       "      <td>6101.000000</td>\n",
       "      <td>4517.000000</td>\n",
       "      <td>6069.000000</td>\n",
       "      <td>6068.000000</td>\n",
       "      <td>6091.000000</td>\n",
       "      <td>4208.000000</td>\n",
       "      <td>5979.000000</td>\n",
       "      <td>5996.000000</td>\n",
       "      <td>5953.000000</td>\n",
       "      <td>5937.000000</td>\n",
       "      <td>5093.000000</td>\n",
       "      <td>5143.000000</td>\n",
       "      <td>6109.000000</td>\n",
       "    </tr>\n",
       "    <tr>\n",
       "      <th>mean</th>\n",
       "      <td>74.940341</td>\n",
       "      <td>128.244952</td>\n",
       "      <td>23.376797</td>\n",
       "      <td>33.842221</td>\n",
       "      <td>37.480167</td>\n",
       "      <td>25.593615</td>\n",
       "      <td>1.393472</td>\n",
       "      <td>14.237755</td>\n",
       "      <td>36.466274</td>\n",
       "      <td>2.341336</td>\n",
       "      <td>11.732977</td>\n",
       "      <td>3.572961</td>\n",
       "      <td>153.626453</td>\n",
       "    </tr>\n",
       "    <tr>\n",
       "      <th>std</th>\n",
       "      <td>78.778777</td>\n",
       "      <td>114.090426</td>\n",
       "      <td>26.627738</td>\n",
       "      <td>25.030174</td>\n",
       "      <td>33.965903</td>\n",
       "      <td>19.251726</td>\n",
       "      <td>1.527257</td>\n",
       "      <td>12.500268</td>\n",
       "      <td>24.526949</td>\n",
       "      <td>2.345106</td>\n",
       "      <td>13.770908</td>\n",
       "      <td>5.471999</td>\n",
       "      <td>128.309320</td>\n",
       "    </tr>\n",
       "    <tr>\n",
       "      <th>min</th>\n",
       "      <td>1.100000</td>\n",
       "      <td>1.160000</td>\n",
       "      <td>0.700000</td>\n",
       "      <td>0.620000</td>\n",
       "      <td>1.000000</td>\n",
       "      <td>1.110000</td>\n",
       "      <td>0.100000</td>\n",
       "      <td>0.360000</td>\n",
       "      <td>0.100000</td>\n",
       "      <td>0.100000</td>\n",
       "      <td>0.100000</td>\n",
       "      <td>0.100000</td>\n",
       "      <td>1.000000</td>\n",
       "    </tr>\n",
       "    <tr>\n",
       "      <th>25%</th>\n",
       "      <td>24.120000</td>\n",
       "      <td>44.140000</td>\n",
       "      <td>6.370000</td>\n",
       "      <td>14.700000</td>\n",
       "      <td>14.150000</td>\n",
       "      <td>11.900000</td>\n",
       "      <td>0.650000</td>\n",
       "      <td>5.950000</td>\n",
       "      <td>18.340000</td>\n",
       "      <td>0.600000</td>\n",
       "      <td>2.440000</td>\n",
       "      <td>0.520000</td>\n",
       "      <td>54.000000</td>\n",
       "    </tr>\n",
       "    <tr>\n",
       "      <th>50%</th>\n",
       "      <td>51.620000</td>\n",
       "      <td>93.990000</td>\n",
       "      <td>13.910000</td>\n",
       "      <td>29.460000</td>\n",
       "      <td>26.860000</td>\n",
       "      <td>22.300000</td>\n",
       "      <td>1.130000</td>\n",
       "      <td>9.580000</td>\n",
       "      <td>33.420000</td>\n",
       "      <td>1.680000</td>\n",
       "      <td>6.360000</td>\n",
       "      <td>1.500000</td>\n",
       "      <td>121.000000</td>\n",
       "    </tr>\n",
       "    <tr>\n",
       "      <th>75%</th>\n",
       "      <td>87.320000</td>\n",
       "      <td>171.910000</td>\n",
       "      <td>29.500000</td>\n",
       "      <td>46.800000</td>\n",
       "      <td>53.105000</td>\n",
       "      <td>36.340000</td>\n",
       "      <td>1.610000</td>\n",
       "      <td>17.950000</td>\n",
       "      <td>48.900000</td>\n",
       "      <td>3.290000</td>\n",
       "      <td>16.560000</td>\n",
       "      <td>4.800000</td>\n",
       "      <td>229.000000</td>\n",
       "    </tr>\n",
       "    <tr>\n",
       "      <th>max</th>\n",
       "      <td>685.360000</td>\n",
       "      <td>796.880000</td>\n",
       "      <td>221.410000</td>\n",
       "      <td>266.460000</td>\n",
       "      <td>259.540000</td>\n",
       "      <td>166.700000</td>\n",
       "      <td>29.460000</td>\n",
       "      <td>89.520000</td>\n",
       "      <td>257.730000</td>\n",
       "      <td>28.550000</td>\n",
       "      <td>123.360000</td>\n",
       "      <td>73.390000</td>\n",
       "      <td>737.000000</td>\n",
       "    </tr>\n",
       "  </tbody>\n",
       "</table>\n",
       "</div>"
      ],
      "text/plain": [
       "             PM2.5         PM10           NO          NO2          NOx  \\\n",
       "count  6101.000000  4517.000000  6069.000000  6068.000000  6091.000000   \n",
       "mean     74.940341   128.244952    23.376797    33.842221    37.480167   \n",
       "std      78.778777   114.090426    26.627738    25.030174    33.965903   \n",
       "min       1.100000     1.160000     0.700000     0.620000     1.000000   \n",
       "25%      24.120000    44.140000     6.370000    14.700000    14.150000   \n",
       "50%      51.620000    93.990000    13.910000    29.460000    26.860000   \n",
       "75%      87.320000   171.910000    29.500000    46.800000    53.105000   \n",
       "max     685.360000   796.880000   221.410000   266.460000   259.540000   \n",
       "\n",
       "               NH3           CO          SO2           O3      Benzene  \\\n",
       "count  4208.000000  5979.000000  5996.000000  5953.000000  5937.000000   \n",
       "mean     25.593615     1.393472    14.237755    36.466274     2.341336   \n",
       "std      19.251726     1.527257    12.500268    24.526949     2.345106   \n",
       "min       1.110000     0.100000     0.360000     0.100000     0.100000   \n",
       "25%      11.900000     0.650000     5.950000    18.340000     0.600000   \n",
       "50%      22.300000     1.130000     9.580000    33.420000     1.680000   \n",
       "75%      36.340000     1.610000    17.950000    48.900000     3.290000   \n",
       "max     166.700000    29.460000    89.520000   257.730000    28.550000   \n",
       "\n",
       "           Toluene       Xylene          AQI  \n",
       "count  5093.000000  5143.000000  6109.000000  \n",
       "mean     11.732977     3.572961   153.626453  \n",
       "std      13.770908     5.471999   128.309320  \n",
       "min       0.100000     0.100000     1.000000  \n",
       "25%       2.440000     0.520000    54.000000  \n",
       "50%       6.360000     1.500000   121.000000  \n",
       "75%      16.560000     4.800000   229.000000  \n",
       "max     123.360000    73.390000   737.000000  "
      ]
     },
     "execution_count": 4,
     "metadata": {},
     "output_type": "execute_result"
    }
   ],
   "source": [
    "df.describe()"
   ]
  },
  {
   "cell_type": "markdown",
   "id": "87ac286e",
   "metadata": {},
   "source": [
    "# MISSING VALUES IN THE DATA"
   ]
  },
  {
   "cell_type": "code",
   "execution_count": 5,
   "id": "9da89111",
   "metadata": {},
   "outputs": [
    {
     "data": {
      "text/plain": [
       "City             0\n",
       "Date             0\n",
       "PM2.5            8\n",
       "PM10          1592\n",
       "NO              40\n",
       "NO2             41\n",
       "NOx             18\n",
       "NH3           1901\n",
       "CO             130\n",
       "SO2            113\n",
       "O3             156\n",
       "Benzene        172\n",
       "Toluene       1016\n",
       "Xylene         966\n",
       "AQI              0\n",
       "AQI_Bucket       0\n",
       "dtype: int64"
      ]
     },
     "execution_count": 5,
     "metadata": {},
     "output_type": "execute_result"
    }
   ],
   "source": [
    "df.isnull().sum()"
   ]
  },
  {
   "cell_type": "code",
   "execution_count": 6,
   "id": "9b04f07a",
   "metadata": {},
   "outputs": [
    {
     "data": {
      "text/html": [
       "<div>\n",
       "<style scoped>\n",
       "    .dataframe tbody tr th:only-of-type {\n",
       "        vertical-align: middle;\n",
       "    }\n",
       "\n",
       "    .dataframe tbody tr th {\n",
       "        vertical-align: top;\n",
       "    }\n",
       "\n",
       "    .dataframe thead th {\n",
       "        text-align: right;\n",
       "    }\n",
       "</style>\n",
       "<table border=\"1\" class=\"dataframe\">\n",
       "  <thead>\n",
       "    <tr style=\"text-align: right;\">\n",
       "      <th></th>\n",
       "      <th>City</th>\n",
       "      <th>PM2.5</th>\n",
       "      <th>PM10</th>\n",
       "      <th>NO</th>\n",
       "      <th>NO2</th>\n",
       "      <th>NOx</th>\n",
       "      <th>NH3</th>\n",
       "      <th>CO</th>\n",
       "      <th>SO2</th>\n",
       "      <th>O3</th>\n",
       "      <th>Benzene</th>\n",
       "      <th>Toluene</th>\n",
       "      <th>Xylene</th>\n",
       "      <th>AQI</th>\n",
       "      <th>AQI_Bucket</th>\n",
       "    </tr>\n",
       "  </thead>\n",
       "  <tbody>\n",
       "    <tr>\n",
       "      <th>0</th>\n",
       "      <td>Delhi</td>\n",
       "      <td>313.22</td>\n",
       "      <td>67.98</td>\n",
       "      <td>69.16</td>\n",
       "      <td>36.39</td>\n",
       "      <td>11.59</td>\n",
       "      <td>33.85</td>\n",
       "      <td>15.20</td>\n",
       "      <td>9.25</td>\n",
       "      <td>41.68</td>\n",
       "      <td>14.36</td>\n",
       "      <td>24.86</td>\n",
       "      <td>9.84</td>\n",
       "      <td>472</td>\n",
       "      <td>Severe</td>\n",
       "    </tr>\n",
       "    <tr>\n",
       "      <th>1</th>\n",
       "      <td>Delhi</td>\n",
       "      <td>186.18</td>\n",
       "      <td>269.55</td>\n",
       "      <td>62.90</td>\n",
       "      <td>32.87</td>\n",
       "      <td>88.14</td>\n",
       "      <td>31.83</td>\n",
       "      <td>9.54</td>\n",
       "      <td>6.65</td>\n",
       "      <td>29.97</td>\n",
       "      <td>1.55</td>\n",
       "      <td>2.90</td>\n",
       "      <td>4.29</td>\n",
       "      <td>454</td>\n",
       "      <td>Severe</td>\n",
       "    </tr>\n",
       "    <tr>\n",
       "      <th>2</th>\n",
       "      <td>Delhi</td>\n",
       "      <td>87.18</td>\n",
       "      <td>131.90</td>\n",
       "      <td>25.73</td>\n",
       "      <td>3.31</td>\n",
       "      <td>47.95</td>\n",
       "      <td>69.55</td>\n",
       "      <td>1.61</td>\n",
       "      <td>2.65</td>\n",
       "      <td>19.71</td>\n",
       "      <td>3.91</td>\n",
       "      <td>1.23</td>\n",
       "      <td>1.99</td>\n",
       "      <td>143</td>\n",
       "      <td>Moderate</td>\n",
       "    </tr>\n",
       "    <tr>\n",
       "      <th>3</th>\n",
       "      <td>Delhi</td>\n",
       "      <td>151.84</td>\n",
       "      <td>241.84</td>\n",
       "      <td>25.10</td>\n",
       "      <td>36.91</td>\n",
       "      <td>48.62</td>\n",
       "      <td>13.36</td>\n",
       "      <td>11.54</td>\n",
       "      <td>4.63</td>\n",
       "      <td>25.36</td>\n",
       "      <td>4.26</td>\n",
       "      <td>9.71</td>\n",
       "      <td>3.34</td>\n",
       "      <td>319</td>\n",
       "      <td>Very Poor</td>\n",
       "    </tr>\n",
       "    <tr>\n",
       "      <th>4</th>\n",
       "      <td>Delhi</td>\n",
       "      <td>146.60</td>\n",
       "      <td>219.13</td>\n",
       "      <td>14.10</td>\n",
       "      <td>34.92</td>\n",
       "      <td>38.25</td>\n",
       "      <td>122.88</td>\n",
       "      <td>9.20</td>\n",
       "      <td>3.33</td>\n",
       "      <td>23.20</td>\n",
       "      <td>2.80</td>\n",
       "      <td>6.21</td>\n",
       "      <td>2.96</td>\n",
       "      <td>325</td>\n",
       "      <td>Very Poor</td>\n",
       "    </tr>\n",
       "  </tbody>\n",
       "</table>\n",
       "</div>"
      ],
      "text/plain": [
       "    City   PM2.5    PM10     NO    NO2    NOx     NH3     CO   SO2     O3  \\\n",
       "0  Delhi  313.22   67.98  69.16  36.39  11.59   33.85  15.20  9.25  41.68   \n",
       "1  Delhi  186.18  269.55  62.90  32.87  88.14   31.83   9.54  6.65  29.97   \n",
       "2  Delhi   87.18  131.90  25.73   3.31  47.95   69.55   1.61  2.65  19.71   \n",
       "3  Delhi  151.84  241.84  25.10  36.91  48.62   13.36  11.54  4.63  25.36   \n",
       "4  Delhi  146.60  219.13  14.10  34.92  38.25  122.88   9.20  3.33  23.20   \n",
       "\n",
       "   Benzene  Toluene  Xylene  AQI AQI_Bucket  \n",
       "0    14.36    24.86    9.84  472     Severe  \n",
       "1     1.55     2.90    4.29  454     Severe  \n",
       "2     3.91     1.23    1.99  143   Moderate  \n",
       "3     4.26     9.71    3.34  319  Very Poor  \n",
       "4     2.80     6.21    2.96  325  Very Poor  "
      ]
     },
     "execution_count": 6,
     "metadata": {},
     "output_type": "execute_result"
    }
   ],
   "source": [
    "dff=df.drop(\"Date\",axis=1)\n",
    "dff.head()"
   ]
  },
  {
   "cell_type": "code",
   "execution_count": 7,
   "id": "5d162255",
   "metadata": {},
   "outputs": [
    {
     "data": {
      "image/png": "[encoded data removed]",
      "text/plain": [
       "<Figure size 432x288 with 1 Axes>"
      ]
     },
     "metadata": {
      "needs_background": "light"
     },
     "output_type": "display_data"
    }
   ],
   "source": [
    "sns.distplot(dff['AQI'])\n",
    "plt.show()"
   ]
  },
  {
   "cell_type": "code",
   "execution_count": 8,
   "id": "2b08774b",
   "metadata": {},
   "outputs": [
    {
     "data": {
      "image/png": "[encoded data removed]",
      "text/plain": [
       "<Figure size 1080x720 with 1 Axes>"
      ]
     },
     "metadata": {
      "needs_background": "light"
     },
     "output_type": "display_data"
    }
   ],
   "source": [
    "plt.figure(figsize=(15,10))\n",
    "plt.title(\"AQI_Bucket\",fontsize=15)\n",
    "c1=sns.countplot(x='AQI_Bucket',data=df,palette=\"mako\")\n",
    "c1.bar_label(c1.containers[0],size=12)\n",
    "plt.xticks(rotation=45)\n",
    "plt.show()"
   ]
  },
  {
   "cell_type": "markdown",
   "id": "7a07b706",
   "metadata": {},
   "source": [
    "# CORRELATION OF THE DATASET"
   ]
  },
  {
   "cell_type": "code",
   "execution_count": 9,
   "id": "f6575cd0",
   "metadata": {},
   "outputs": [
    {
     "data": {
      "image/png": "[encoded data removed]",
      "text/plain": [
       "<Figure size 1080x864 with 2 Axes>"
      ]
     },
     "metadata": {
      "needs_background": "light"
     },
     "output_type": "display_data"
    },
    {
     "name": "stdout",
     "output_type": "stream",
     "text": [
      "Toluene and Benzene of the Air are highly correlated\n"
     ]
    }
   ],
   "source": [
    "plt.figure(figsize=(15,12))\n",
    "sns.heatmap(dff.corr(),annot=True)\n",
    "plt.show()\n",
    "print(\"Toluene and Benzene of the Air are highly correlated\")"
   ]
  },
  {
   "cell_type": "code",
   "execution_count": 10,
   "id": "a067f5a8",
   "metadata": {},
   "outputs": [
    {
     "data": {
      "text/plain": [
       "['City', 'AQI_Bucket']"
      ]
     },
     "execution_count": 10,
     "metadata": {},
     "output_type": "execute_result"
    }
   ],
   "source": [
    "lst=[]\n",
    "for i in dff.columns:\n",
    "    if dff[i].dtype==\"O\":\n",
    "        lst.append(i)\n",
    "lst"
   ]
  },
  {
   "cell_type": "code",
   "execution_count": 11,
   "id": "1cafd1dc",
   "metadata": {},
   "outputs": [
    {
     "data": {
      "text/plain": [
       "City             0\n",
       "PM2.5            8\n",
       "PM10          1592\n",
       "NO              40\n",
       "NO2             41\n",
       "NOx             18\n",
       "NH3           1901\n",
       "CO             130\n",
       "SO2            113\n",
       "O3             156\n",
       "Benzene        172\n",
       "Toluene       1016\n",
       "Xylene         966\n",
       "AQI              0\n",
       "AQI_Bucket       0\n",
       "dtype: int64"
      ]
     },
     "execution_count": 11,
     "metadata": {},
     "output_type": "execute_result"
    }
   ],
   "source": [
    "dff.isnull().sum()"
   ]
  },
  {
   "cell_type": "code",
   "execution_count": 12,
   "id": "f84abf0c",
   "metadata": {},
   "outputs": [],
   "source": [
    "dff=dff.fillna(dff.mean())"
   ]
  },
  {
   "cell_type": "code",
   "execution_count": 13,
   "id": "f9a49e62",
   "metadata": {},
   "outputs": [
    {
     "data": {
      "text/plain": [
       "City          0\n",
       "PM2.5         0\n",
       "PM10          0\n",
       "NO            0\n",
       "NO2           0\n",
       "NOx           0\n",
       "NH3           0\n",
       "CO            0\n",
       "SO2           0\n",
       "O3            0\n",
       "Benzene       0\n",
       "Toluene       0\n",
       "Xylene        0\n",
       "AQI           0\n",
       "AQI_Bucket    0\n",
       "dtype: int64"
      ]
     },
     "execution_count": 13,
     "metadata": {},
     "output_type": "execute_result"
    }
   ],
   "source": [
    "dff.isnull().sum()"
   ]
  },
  {
   "cell_type": "code",
   "execution_count": 14,
   "id": "be9cb744",
   "metadata": {},
   "outputs": [
    {
     "data": {
      "text/html": [
       "<div>\n",
       "<style scoped>\n",
       "    .dataframe tbody tr th:only-of-type {\n",
       "        vertical-align: middle;\n",
       "    }\n",
       "\n",
       "    .dataframe tbody tr th {\n",
       "        vertical-align: top;\n",
       "    }\n",
       "\n",
       "    .dataframe thead th {\n",
       "        text-align: right;\n",
       "    }\n",
       "</style>\n",
       "<table border=\"1\" class=\"dataframe\">\n",
       "  <thead>\n",
       "    <tr style=\"text-align: right;\">\n",
       "      <th></th>\n",
       "      <th>City</th>\n",
       "      <th>PM2.5</th>\n",
       "      <th>PM10</th>\n",
       "      <th>NO</th>\n",
       "      <th>NO2</th>\n",
       "      <th>NOx</th>\n",
       "      <th>NH3</th>\n",
       "      <th>CO</th>\n",
       "      <th>SO2</th>\n",
       "      <th>O3</th>\n",
       "      <th>Benzene</th>\n",
       "      <th>Toluene</th>\n",
       "      <th>Xylene</th>\n",
       "      <th>AQI</th>\n",
       "      <th>AQI_Bucket</th>\n",
       "    </tr>\n",
       "  </thead>\n",
       "  <tbody>\n",
       "    <tr>\n",
       "      <th>0</th>\n",
       "      <td>Delhi</td>\n",
       "      <td>313.22</td>\n",
       "      <td>67.98</td>\n",
       "      <td>69.16</td>\n",
       "      <td>36.39</td>\n",
       "      <td>11.59</td>\n",
       "      <td>33.85</td>\n",
       "      <td>15.20</td>\n",
       "      <td>9.25</td>\n",
       "      <td>41.68</td>\n",
       "      <td>14.36</td>\n",
       "      <td>24.86</td>\n",
       "      <td>9.84</td>\n",
       "      <td>472</td>\n",
       "      <td>Severe</td>\n",
       "    </tr>\n",
       "    <tr>\n",
       "      <th>1</th>\n",
       "      <td>Delhi</td>\n",
       "      <td>186.18</td>\n",
       "      <td>269.55</td>\n",
       "      <td>62.90</td>\n",
       "      <td>32.87</td>\n",
       "      <td>88.14</td>\n",
       "      <td>31.83</td>\n",
       "      <td>9.54</td>\n",
       "      <td>6.65</td>\n",
       "      <td>29.97</td>\n",
       "      <td>1.55</td>\n",
       "      <td>2.90</td>\n",
       "      <td>4.29</td>\n",
       "      <td>454</td>\n",
       "      <td>Severe</td>\n",
       "    </tr>\n",
       "    <tr>\n",
       "      <th>2</th>\n",
       "      <td>Delhi</td>\n",
       "      <td>87.18</td>\n",
       "      <td>131.90</td>\n",
       "      <td>25.73</td>\n",
       "      <td>3.31</td>\n",
       "      <td>47.95</td>\n",
       "      <td>69.55</td>\n",
       "      <td>1.61</td>\n",
       "      <td>2.65</td>\n",
       "      <td>19.71</td>\n",
       "      <td>3.91</td>\n",
       "      <td>1.23</td>\n",
       "      <td>1.99</td>\n",
       "      <td>143</td>\n",
       "      <td>Moderate</td>\n",
       "    </tr>\n",
       "    <tr>\n",
       "      <th>3</th>\n",
       "      <td>Delhi</td>\n",
       "      <td>151.84</td>\n",
       "      <td>241.84</td>\n",
       "      <td>25.10</td>\n",
       "      <td>36.91</td>\n",
       "      <td>48.62</td>\n",
       "      <td>13.36</td>\n",
       "      <td>11.54</td>\n",
       "      <td>4.63</td>\n",
       "      <td>25.36</td>\n",
       "      <td>4.26</td>\n",
       "      <td>9.71</td>\n",
       "      <td>3.34</td>\n",
       "      <td>319</td>\n",
       "      <td>Very Poor</td>\n",
       "    </tr>\n",
       "    <tr>\n",
       "      <th>4</th>\n",
       "      <td>Delhi</td>\n",
       "      <td>146.60</td>\n",
       "      <td>219.13</td>\n",
       "      <td>14.10</td>\n",
       "      <td>34.92</td>\n",
       "      <td>38.25</td>\n",
       "      <td>122.88</td>\n",
       "      <td>9.20</td>\n",
       "      <td>3.33</td>\n",
       "      <td>23.20</td>\n",
       "      <td>2.80</td>\n",
       "      <td>6.21</td>\n",
       "      <td>2.96</td>\n",
       "      <td>325</td>\n",
       "      <td>Very Poor</td>\n",
       "    </tr>\n",
       "  </tbody>\n",
       "</table>\n",
       "</div>"
      ],
      "text/plain": [
       "    City   PM2.5    PM10     NO    NO2    NOx     NH3     CO   SO2     O3  \\\n",
       "0  Delhi  313.22   67.98  69.16  36.39  11.59   33.85  15.20  9.25  41.68   \n",
       "1  Delhi  186.18  269.55  62.90  32.87  88.14   31.83   9.54  6.65  29.97   \n",
       "2  Delhi   87.18  131.90  25.73   3.31  47.95   69.55   1.61  2.65  19.71   \n",
       "3  Delhi  151.84  241.84  25.10  36.91  48.62   13.36  11.54  4.63  25.36   \n",
       "4  Delhi  146.60  219.13  14.10  34.92  38.25  122.88   9.20  3.33  23.20   \n",
       "\n",
       "   Benzene  Toluene  Xylene  AQI AQI_Bucket  \n",
       "0    14.36    24.86    9.84  472     Severe  \n",
       "1     1.55     2.90    4.29  454     Severe  \n",
       "2     3.91     1.23    1.99  143   Moderate  \n",
       "3     4.26     9.71    3.34  319  Very Poor  \n",
       "4     2.80     6.21    2.96  325  Very Poor  "
      ]
     },
     "execution_count": 14,
     "metadata": {},
     "output_type": "execute_result"
    }
   ],
   "source": [
    "dff.head()"
   ]
  },
  {
   "cell_type": "markdown",
   "id": "30326a42",
   "metadata": {},
   "source": [
    "# IMPORTING ALGORITHOMS TO ANALYSE THE DATASET"
   ]
  },
  {
   "cell_type": "code",
   "execution_count": 15,
   "id": "3f7cec49",
   "metadata": {},
   "outputs": [],
   "source": [
    "from sklearn import preprocessing\n",
    "from sklearn.model_selection import train_test_split\n",
    "from sklearn.linear_model import LinearRegression,Perceptron\n",
    "from sklearn.ensemble import RandomForestRegressor,AdaBoostRegressor,BaggingRegressor,GradientBoostingRegressor,HistGradientBoostingRegressor\n",
    "from sklearn.neighbors import KNeighborsRegressor\n",
    "from sklearn.svm import SVR\n",
    "from sklearn.metrics import mean_squared_error,r2_score"
   ]
  },
  {
   "cell_type": "code",
   "execution_count": 16,
   "id": "9d6b8a5f",
   "metadata": {},
   "outputs": [],
   "source": [
    "label_encoder = preprocessing.LabelEncoder()\n",
    "dff['City']= label_encoder.fit_transform(dff['City'])"
   ]
  },
  {
   "cell_type": "code",
   "execution_count": 17,
   "id": "f005089a",
   "metadata": {
    "scrolled": true
   },
   "outputs": [
    {
     "name": "stdout",
     "output_type": "stream",
     "text": [
      "<class 'pandas.core.frame.DataFrame'>\n",
      "RangeIndex: 6109 entries, 0 to 6108\n",
      "Data columns (total 15 columns):\n",
      " #   Column      Non-Null Count  Dtype  \n",
      "---  ------      --------------  -----  \n",
      " 0   City        6109 non-null   int32  \n",
      " 1   PM2.5       6109 non-null   float64\n",
      " 2   PM10        6109 non-null   float64\n",
      " 3   NO          6109 non-null   float64\n",
      " 4   NO2         6109 non-null   float64\n",
      " 5   NOx         6109 non-null   float64\n",
      " 6   NH3         6109 non-null   float64\n",
      " 7   CO          6109 non-null   float64\n",
      " 8   SO2         6109 non-null   float64\n",
      " 9   O3          6109 non-null   float64\n",
      " 10  Benzene     6109 non-null   float64\n",
      " 11  Toluene     6109 non-null   float64\n",
      " 12  Xylene      6109 non-null   float64\n",
      " 13  AQI         6109 non-null   int64  \n",
      " 14  AQI_Bucket  6109 non-null   object \n",
      "dtypes: float64(12), int32(1), int64(1), object(1)\n",
      "memory usage: 692.2+ KB\n"
     ]
    }
   ],
   "source": [
    "dff.info()"
   ]
  },
  {
   "cell_type": "code",
   "execution_count": 18,
   "id": "2d4b4b91",
   "metadata": {},
   "outputs": [
    {
     "data": {
      "text/html": [
       "<div>\n",
       "<style scoped>\n",
       "    .dataframe tbody tr th:only-of-type {\n",
       "        vertical-align: middle;\n",
       "    }\n",
       "\n",
       "    .dataframe tbody tr th {\n",
       "        vertical-align: top;\n",
       "    }\n",
       "\n",
       "    .dataframe thead th {\n",
       "        text-align: right;\n",
       "    }\n",
       "</style>\n",
       "<table border=\"1\" class=\"dataframe\">\n",
       "  <thead>\n",
       "    <tr style=\"text-align: right;\">\n",
       "      <th></th>\n",
       "      <th>City</th>\n",
       "      <th>PM2.5</th>\n",
       "      <th>PM10</th>\n",
       "      <th>NO</th>\n",
       "      <th>NO2</th>\n",
       "      <th>NOx</th>\n",
       "      <th>NH3</th>\n",
       "      <th>CO</th>\n",
       "      <th>SO2</th>\n",
       "      <th>O3</th>\n",
       "      <th>Benzene</th>\n",
       "      <th>Toluene</th>\n",
       "      <th>Xylene</th>\n",
       "      <th>AQI</th>\n",
       "      <th>AQI_Bucket</th>\n",
       "    </tr>\n",
       "  </thead>\n",
       "  <tbody>\n",
       "    <tr>\n",
       "      <th>0</th>\n",
       "      <td>0</td>\n",
       "      <td>313.22</td>\n",
       "      <td>67.98</td>\n",
       "      <td>69.16</td>\n",
       "      <td>36.39</td>\n",
       "      <td>11.59</td>\n",
       "      <td>33.85</td>\n",
       "      <td>15.20</td>\n",
       "      <td>9.25</td>\n",
       "      <td>41.68</td>\n",
       "      <td>14.36</td>\n",
       "      <td>24.86</td>\n",
       "      <td>9.84</td>\n",
       "      <td>472</td>\n",
       "      <td>Severe</td>\n",
       "    </tr>\n",
       "    <tr>\n",
       "      <th>1</th>\n",
       "      <td>0</td>\n",
       "      <td>186.18</td>\n",
       "      <td>269.55</td>\n",
       "      <td>62.90</td>\n",
       "      <td>32.87</td>\n",
       "      <td>88.14</td>\n",
       "      <td>31.83</td>\n",
       "      <td>9.54</td>\n",
       "      <td>6.65</td>\n",
       "      <td>29.97</td>\n",
       "      <td>1.55</td>\n",
       "      <td>2.90</td>\n",
       "      <td>4.29</td>\n",
       "      <td>454</td>\n",
       "      <td>Severe</td>\n",
       "    </tr>\n",
       "    <tr>\n",
       "      <th>2</th>\n",
       "      <td>0</td>\n",
       "      <td>87.18</td>\n",
       "      <td>131.90</td>\n",
       "      <td>25.73</td>\n",
       "      <td>3.31</td>\n",
       "      <td>47.95</td>\n",
       "      <td>69.55</td>\n",
       "      <td>1.61</td>\n",
       "      <td>2.65</td>\n",
       "      <td>19.71</td>\n",
       "      <td>3.91</td>\n",
       "      <td>1.23</td>\n",
       "      <td>1.99</td>\n",
       "      <td>143</td>\n",
       "      <td>Moderate</td>\n",
       "    </tr>\n",
       "    <tr>\n",
       "      <th>3</th>\n",
       "      <td>0</td>\n",
       "      <td>151.84</td>\n",
       "      <td>241.84</td>\n",
       "      <td>25.10</td>\n",
       "      <td>36.91</td>\n",
       "      <td>48.62</td>\n",
       "      <td>13.36</td>\n",
       "      <td>11.54</td>\n",
       "      <td>4.63</td>\n",
       "      <td>25.36</td>\n",
       "      <td>4.26</td>\n",
       "      <td>9.71</td>\n",
       "      <td>3.34</td>\n",
       "      <td>319</td>\n",
       "      <td>Very Poor</td>\n",
       "    </tr>\n",
       "    <tr>\n",
       "      <th>4</th>\n",
       "      <td>0</td>\n",
       "      <td>146.60</td>\n",
       "      <td>219.13</td>\n",
       "      <td>14.10</td>\n",
       "      <td>34.92</td>\n",
       "      <td>38.25</td>\n",
       "      <td>122.88</td>\n",
       "      <td>9.20</td>\n",
       "      <td>3.33</td>\n",
       "      <td>23.20</td>\n",
       "      <td>2.80</td>\n",
       "      <td>6.21</td>\n",
       "      <td>2.96</td>\n",
       "      <td>325</td>\n",
       "      <td>Very Poor</td>\n",
       "    </tr>\n",
       "  </tbody>\n",
       "</table>\n",
       "</div>"
      ],
      "text/plain": [
       "   City   PM2.5    PM10     NO    NO2    NOx     NH3     CO   SO2     O3  \\\n",
       "0     0  313.22   67.98  69.16  36.39  11.59   33.85  15.20  9.25  41.68   \n",
       "1     0  186.18  269.55  62.90  32.87  88.14   31.83   9.54  6.65  29.97   \n",
       "2     0   87.18  131.90  25.73   3.31  47.95   69.55   1.61  2.65  19.71   \n",
       "3     0  151.84  241.84  25.10  36.91  48.62   13.36  11.54  4.63  25.36   \n",
       "4     0  146.60  219.13  14.10  34.92  38.25  122.88   9.20  3.33  23.20   \n",
       "\n",
       "   Benzene  Toluene  Xylene  AQI AQI_Bucket  \n",
       "0    14.36    24.86    9.84  472     Severe  \n",
       "1     1.55     2.90    4.29  454     Severe  \n",
       "2     3.91     1.23    1.99  143   Moderate  \n",
       "3     4.26     9.71    3.34  319  Very Poor  \n",
       "4     2.80     6.21    2.96  325  Very Poor  "
      ]
     },
     "execution_count": 18,
     "metadata": {},
     "output_type": "execute_result"
    }
   ],
   "source": [
    "dff.head()"
   ]
  },
  {
   "cell_type": "code",
   "execution_count": 19,
   "id": "48d29fb0",
   "metadata": {},
   "outputs": [
    {
     "data": {
      "text/html": [
       "<div>\n",
       "<style scoped>\n",
       "    .dataframe tbody tr th:only-of-type {\n",
       "        vertical-align: middle;\n",
       "    }\n",
       "\n",
       "    .dataframe tbody tr th {\n",
       "        vertical-align: top;\n",
       "    }\n",
       "\n",
       "    .dataframe thead th {\n",
       "        text-align: right;\n",
       "    }\n",
       "</style>\n",
       "<table border=\"1\" class=\"dataframe\">\n",
       "  <thead>\n",
       "    <tr style=\"text-align: right;\">\n",
       "      <th></th>\n",
       "      <th>City</th>\n",
       "      <th>PM2.5</th>\n",
       "      <th>PM10</th>\n",
       "      <th>NO</th>\n",
       "      <th>NO2</th>\n",
       "      <th>NOx</th>\n",
       "      <th>NH3</th>\n",
       "      <th>CO</th>\n",
       "      <th>SO2</th>\n",
       "      <th>O3</th>\n",
       "      <th>Benzene</th>\n",
       "      <th>Toluene</th>\n",
       "      <th>Xylene</th>\n",
       "    </tr>\n",
       "  </thead>\n",
       "  <tbody>\n",
       "    <tr>\n",
       "      <th>0</th>\n",
       "      <td>0</td>\n",
       "      <td>313.22</td>\n",
       "      <td>67.98</td>\n",
       "      <td>69.16</td>\n",
       "      <td>36.39</td>\n",
       "      <td>11.59</td>\n",
       "      <td>33.85</td>\n",
       "      <td>15.20</td>\n",
       "      <td>9.25</td>\n",
       "      <td>41.68</td>\n",
       "      <td>14.36</td>\n",
       "      <td>24.86</td>\n",
       "      <td>9.84</td>\n",
       "    </tr>\n",
       "    <tr>\n",
       "      <th>1</th>\n",
       "      <td>0</td>\n",
       "      <td>186.18</td>\n",
       "      <td>269.55</td>\n",
       "      <td>62.90</td>\n",
       "      <td>32.87</td>\n",
       "      <td>88.14</td>\n",
       "      <td>31.83</td>\n",
       "      <td>9.54</td>\n",
       "      <td>6.65</td>\n",
       "      <td>29.97</td>\n",
       "      <td>1.55</td>\n",
       "      <td>2.90</td>\n",
       "      <td>4.29</td>\n",
       "    </tr>\n",
       "    <tr>\n",
       "      <th>2</th>\n",
       "      <td>0</td>\n",
       "      <td>87.18</td>\n",
       "      <td>131.90</td>\n",
       "      <td>25.73</td>\n",
       "      <td>3.31</td>\n",
       "      <td>47.95</td>\n",
       "      <td>69.55</td>\n",
       "      <td>1.61</td>\n",
       "      <td>2.65</td>\n",
       "      <td>19.71</td>\n",
       "      <td>3.91</td>\n",
       "      <td>1.23</td>\n",
       "      <td>1.99</td>\n",
       "    </tr>\n",
       "    <tr>\n",
       "      <th>3</th>\n",
       "      <td>0</td>\n",
       "      <td>151.84</td>\n",
       "      <td>241.84</td>\n",
       "      <td>25.10</td>\n",
       "      <td>36.91</td>\n",
       "      <td>48.62</td>\n",
       "      <td>13.36</td>\n",
       "      <td>11.54</td>\n",
       "      <td>4.63</td>\n",
       "      <td>25.36</td>\n",
       "      <td>4.26</td>\n",
       "      <td>9.71</td>\n",
       "      <td>3.34</td>\n",
       "    </tr>\n",
       "    <tr>\n",
       "      <th>4</th>\n",
       "      <td>0</td>\n",
       "      <td>146.60</td>\n",
       "      <td>219.13</td>\n",
       "      <td>14.10</td>\n",
       "      <td>34.92</td>\n",
       "      <td>38.25</td>\n",
       "      <td>122.88</td>\n",
       "      <td>9.20</td>\n",
       "      <td>3.33</td>\n",
       "      <td>23.20</td>\n",
       "      <td>2.80</td>\n",
       "      <td>6.21</td>\n",
       "      <td>2.96</td>\n",
       "    </tr>\n",
       "  </tbody>\n",
       "</table>\n",
       "</div>"
      ],
      "text/plain": [
       "   City   PM2.5    PM10     NO    NO2    NOx     NH3     CO   SO2     O3  \\\n",
       "0     0  313.22   67.98  69.16  36.39  11.59   33.85  15.20  9.25  41.68   \n",
       "1     0  186.18  269.55  62.90  32.87  88.14   31.83   9.54  6.65  29.97   \n",
       "2     0   87.18  131.90  25.73   3.31  47.95   69.55   1.61  2.65  19.71   \n",
       "3     0  151.84  241.84  25.10  36.91  48.62   13.36  11.54  4.63  25.36   \n",
       "4     0  146.60  219.13  14.10  34.92  38.25  122.88   9.20  3.33  23.20   \n",
       "\n",
       "   Benzene  Toluene  Xylene  \n",
       "0    14.36    24.86    9.84  \n",
       "1     1.55     2.90    4.29  \n",
       "2     3.91     1.23    1.99  \n",
       "3     4.26     9.71    3.34  \n",
       "4     2.80     6.21    2.96  "
      ]
     },
     "execution_count": 19,
     "metadata": {},
     "output_type": "execute_result"
    }
   ],
   "source": [
    "x=dff.drop(['AQI_Bucket','AQI'],axis=1)\n",
    "x.head()\n",
    " "
   ]
  },
  {
   "cell_type": "code",
   "execution_count": 20,
   "id": "c0e07e8e",
   "metadata": {},
   "outputs": [
    {
     "data": {
      "text/plain": [
       "0    472\n",
       "1    454\n",
       "2    143\n",
       "3    319\n",
       "4    325\n",
       "Name: AQI, dtype: int64"
      ]
     },
     "execution_count": 20,
     "metadata": {},
     "output_type": "execute_result"
    }
   ],
   "source": [
    "y=dff.AQI\n",
    "y.head()"
   ]
  },
  {
   "cell_type": "code",
   "execution_count": 21,
   "id": "24780d10",
   "metadata": {},
   "outputs": [],
   "source": [
    "x_train,x_test,y_train,y_test=train_test_split(x,y,test_size=0.3,random_state=10)"
   ]
  },
  {
   "cell_type": "markdown",
   "id": "69c6a8ec",
   "metadata": {},
   "source": [
    "# LINEAR REGRESSION ALGORITHOM"
   ]
  },
  {
   "cell_type": "code",
   "execution_count": 22,
   "id": "a4e6d588",
   "metadata": {},
   "outputs": [],
   "source": [
    "lr= LinearRegression()\n",
    "model_lr=lr.fit(x_train,y_train)\n",
    "pred_lr=model_lr.predict(x_test)"
   ]
  },
  {
   "cell_type": "code",
   "execution_count": 23,
   "id": "af702b1b",
   "metadata": {},
   "outputs": [],
   "source": [
    "pred_data=pd.DataFrame(pred_lr)"
   ]
  },
  {
   "cell_type": "code",
   "execution_count": 24,
   "id": "3c33fb78",
   "metadata": {},
   "outputs": [
    {
     "data": {
      "text/html": [
       "<div>\n",
       "<style scoped>\n",
       "    .dataframe tbody tr th:only-of-type {\n",
       "        vertical-align: middle;\n",
       "    }\n",
       "\n",
       "    .dataframe tbody tr th {\n",
       "        vertical-align: top;\n",
       "    }\n",
       "\n",
       "    .dataframe thead th {\n",
       "        text-align: right;\n",
       "    }\n",
       "</style>\n",
       "<table border=\"1\" class=\"dataframe\">\n",
       "  <thead>\n",
       "    <tr style=\"text-align: right;\">\n",
       "      <th></th>\n",
       "      <th>0</th>\n",
       "    </tr>\n",
       "  </thead>\n",
       "  <tbody>\n",
       "    <tr>\n",
       "      <th>0</th>\n",
       "      <td>152.608552</td>\n",
       "    </tr>\n",
       "    <tr>\n",
       "      <th>1</th>\n",
       "      <td>104.345910</td>\n",
       "    </tr>\n",
       "    <tr>\n",
       "      <th>2</th>\n",
       "      <td>222.270848</td>\n",
       "    </tr>\n",
       "    <tr>\n",
       "      <th>3</th>\n",
       "      <td>231.477291</td>\n",
       "    </tr>\n",
       "    <tr>\n",
       "      <th>4</th>\n",
       "      <td>137.694379</td>\n",
       "    </tr>\n",
       "    <tr>\n",
       "      <th>...</th>\n",
       "      <td>...</td>\n",
       "    </tr>\n",
       "    <tr>\n",
       "      <th>1828</th>\n",
       "      <td>116.547494</td>\n",
       "    </tr>\n",
       "    <tr>\n",
       "      <th>1829</th>\n",
       "      <td>138.215206</td>\n",
       "    </tr>\n",
       "    <tr>\n",
       "      <th>1830</th>\n",
       "      <td>238.889517</td>\n",
       "    </tr>\n",
       "    <tr>\n",
       "      <th>1831</th>\n",
       "      <td>96.248945</td>\n",
       "    </tr>\n",
       "    <tr>\n",
       "      <th>1832</th>\n",
       "      <td>201.110410</td>\n",
       "    </tr>\n",
       "  </tbody>\n",
       "</table>\n",
       "<p>1833 rows × 1 columns</p>\n",
       "</div>"
      ],
      "text/plain": [
       "               0\n",
       "0     152.608552\n",
       "1     104.345910\n",
       "2     222.270848\n",
       "3     231.477291\n",
       "4     137.694379\n",
       "...          ...\n",
       "1828  116.547494\n",
       "1829  138.215206\n",
       "1830  238.889517\n",
       "1831   96.248945\n",
       "1832  201.110410\n",
       "\n",
       "[1833 rows x 1 columns]"
      ]
     },
     "execution_count": 24,
     "metadata": {},
     "output_type": "execute_result"
    }
   ],
   "source": [
    "pred_data"
   ]
  },
  {
   "cell_type": "code",
   "execution_count": 25,
   "id": "f9c2e71c",
   "metadata": {},
   "outputs": [
    {
     "name": "stdout",
     "output_type": "stream",
     "text": [
      "the MEAN SQUARED ERROR of the liner regression is: 8336.247802297223\n",
      "the r2_score of the liner regression is: 0.4959069576502152\n"
     ]
    }
   ],
   "source": [
    "print(\"the MEAN SQUARED ERROR of the liner regression is:\",mean_squared_error(y_test,pred_lr))\n",
    "print(\"the r2_score of the liner regression is:\",r2_score(y_test,pred_lr))"
   ]
  },
  {
   "cell_type": "markdown",
   "id": "bafe05c8",
   "metadata": {},
   "source": [
    "# RANDOMFOREST REGRESSION"
   ]
  },
  {
   "cell_type": "code",
   "execution_count": 26,
   "id": "86d79980",
   "metadata": {},
   "outputs": [
    {
     "data": {
      "text/html": [
       "<div>\n",
       "<style scoped>\n",
       "    .dataframe tbody tr th:only-of-type {\n",
       "        vertical-align: middle;\n",
       "    }\n",
       "\n",
       "    .dataframe tbody tr th {\n",
       "        vertical-align: top;\n",
       "    }\n",
       "\n",
       "    .dataframe thead th {\n",
       "        text-align: right;\n",
       "    }\n",
       "</style>\n",
       "<table border=\"1\" class=\"dataframe\">\n",
       "  <thead>\n",
       "    <tr style=\"text-align: right;\">\n",
       "      <th></th>\n",
       "      <th>0</th>\n",
       "    </tr>\n",
       "  </thead>\n",
       "  <tbody>\n",
       "    <tr>\n",
       "      <th>0</th>\n",
       "      <td>179.60</td>\n",
       "    </tr>\n",
       "    <tr>\n",
       "      <th>1</th>\n",
       "      <td>49.05</td>\n",
       "    </tr>\n",
       "    <tr>\n",
       "      <th>2</th>\n",
       "      <td>238.50</td>\n",
       "    </tr>\n",
       "    <tr>\n",
       "      <th>3</th>\n",
       "      <td>192.02</td>\n",
       "    </tr>\n",
       "    <tr>\n",
       "      <th>4</th>\n",
       "      <td>302.34</td>\n",
       "    </tr>\n",
       "    <tr>\n",
       "      <th>5</th>\n",
       "      <td>71.36</td>\n",
       "    </tr>\n",
       "    <tr>\n",
       "      <th>6</th>\n",
       "      <td>64.87</td>\n",
       "    </tr>\n",
       "    <tr>\n",
       "      <th>7</th>\n",
       "      <td>81.01</td>\n",
       "    </tr>\n",
       "    <tr>\n",
       "      <th>8</th>\n",
       "      <td>172.24</td>\n",
       "    </tr>\n",
       "    <tr>\n",
       "      <th>9</th>\n",
       "      <td>136.36</td>\n",
       "    </tr>\n",
       "  </tbody>\n",
       "</table>\n",
       "</div>"
      ],
      "text/plain": [
       "        0\n",
       "0  179.60\n",
       "1   49.05\n",
       "2  238.50\n",
       "3  192.02\n",
       "4  302.34\n",
       "5   71.36\n",
       "6   64.87\n",
       "7   81.01\n",
       "8  172.24\n",
       "9  136.36"
      ]
     },
     "execution_count": 26,
     "metadata": {},
     "output_type": "execute_result"
    }
   ],
   "source": [
    "rf=RandomForestRegressor()\n",
    "model_rf=rf.fit(x_train,y_train)\n",
    "pred_rf=model_rf.predict(x_test)\n",
    "pred_rf_data=pd.DataFrame(pred_rf)\n",
    "pred_rf_data.head(10)"
   ]
  },
  {
   "cell_type": "code",
   "execution_count": 27,
   "id": "89596a18",
   "metadata": {},
   "outputs": [
    {
     "name": "stdout",
     "output_type": "stream",
     "text": [
      "the mean square error of the randomforest regression is: 7378.433329678124\n",
      "the r2_score of the randomforest regression is: 0.5538260146360408\n"
     ]
    }
   ],
   "source": [
    "print(\"the mean square error of the randomforest regression is:\",mean_squared_error(y_test,pred_rf))\n",
    "print(\"the r2_score of the randomforest regression is:\",r2_score(y_test,pred_rf))"
   ]
  },
  {
   "cell_type": "code",
   "execution_count": 28,
   "id": "4d8c505a",
   "metadata": {},
   "outputs": [
    {
     "data": {
      "text/html": [
       "<div>\n",
       "<style scoped>\n",
       "    .dataframe tbody tr th:only-of-type {\n",
       "        vertical-align: middle;\n",
       "    }\n",
       "\n",
       "    .dataframe tbody tr th {\n",
       "        vertical-align: top;\n",
       "    }\n",
       "\n",
       "    .dataframe thead th {\n",
       "        text-align: right;\n",
       "    }\n",
       "</style>\n",
       "<table border=\"1\" class=\"dataframe\">\n",
       "  <thead>\n",
       "    <tr style=\"text-align: right;\">\n",
       "      <th></th>\n",
       "      <th>0</th>\n",
       "    </tr>\n",
       "  </thead>\n",
       "  <tbody>\n",
       "    <tr>\n",
       "      <th>0</th>\n",
       "      <td>191.8</td>\n",
       "    </tr>\n",
       "    <tr>\n",
       "      <th>1</th>\n",
       "      <td>114.0</td>\n",
       "    </tr>\n",
       "    <tr>\n",
       "      <th>2</th>\n",
       "      <td>279.2</td>\n",
       "    </tr>\n",
       "    <tr>\n",
       "      <th>3</th>\n",
       "      <td>127.4</td>\n",
       "    </tr>\n",
       "    <tr>\n",
       "      <th>4</th>\n",
       "      <td>245.4</td>\n",
       "    </tr>\n",
       "    <tr>\n",
       "      <th>5</th>\n",
       "      <td>59.8</td>\n",
       "    </tr>\n",
       "    <tr>\n",
       "      <th>6</th>\n",
       "      <td>69.2</td>\n",
       "    </tr>\n",
       "    <tr>\n",
       "      <th>7</th>\n",
       "      <td>84.2</td>\n",
       "    </tr>\n",
       "    <tr>\n",
       "      <th>8</th>\n",
       "      <td>113.4</td>\n",
       "    </tr>\n",
       "    <tr>\n",
       "      <th>9</th>\n",
       "      <td>89.8</td>\n",
       "    </tr>\n",
       "  </tbody>\n",
       "</table>\n",
       "</div>"
      ],
      "text/plain": [
       "       0\n",
       "0  191.8\n",
       "1  114.0\n",
       "2  279.2\n",
       "3  127.4\n",
       "4  245.4\n",
       "5   59.8\n",
       "6   69.2\n",
       "7   84.2\n",
       "8  113.4\n",
       "9   89.8"
      ]
     },
     "execution_count": 28,
     "metadata": {},
     "output_type": "execute_result"
    }
   ],
   "source": [
    "knn=KNeighborsRegressor()\n",
    "model_knn= knn.fit(x_train,y_train)\n",
    "pred_knn=model_knn.predict(x_test)\n",
    "pred_knn_data=pd.DataFrame(pred_knn)\n",
    "pred_knn_data.head(10)"
   ]
  },
  {
   "cell_type": "code",
   "execution_count": 29,
   "id": "cab21210",
   "metadata": {},
   "outputs": [
    {
     "name": "stdout",
     "output_type": "stream",
     "text": [
      "the mean square error of the knn regression is: 8660.441527550463\n",
      "the r2_score of the knn regression is: 0.47630295772730247\n"
     ]
    }
   ],
   "source": [
    "print(\"the mean square error of the knn regression is:\",mean_squared_error(y_test,pred_knn))\n",
    "print(\"the r2_score of the knn regression is:\",r2_score(y_test,pred_knn))"
   ]
  },
  {
   "cell_type": "code",
   "execution_count": 30,
   "id": "b5dadcff",
   "metadata": {},
   "outputs": [
    {
     "data": {
      "text/plain": [
       "0.4125977207762348"
      ]
     },
     "execution_count": 30,
     "metadata": {},
     "output_type": "execute_result"
    }
   ],
   "source": [
    "ada=AdaBoostRegressor()\n",
    "model_ada=ada.fit(x_train,y_train)\n",
    "pred_ada=model_ada.predict(x_test)\n",
    "r2_score(y_test,pred_ada)"
   ]
  },
  {
   "cell_type": "code",
   "execution_count": 31,
   "id": "1533f98f",
   "metadata": {},
   "outputs": [
    {
     "data": {
      "text/plain": [
       "9713.942760284524"
      ]
     },
     "execution_count": 31,
     "metadata": {},
     "output_type": "execute_result"
    }
   ],
   "source": [
    "mean_squared_error(y_test,pred_ada)"
   ]
  },
  {
   "cell_type": "code",
   "execution_count": 32,
   "id": "d4a503da",
   "metadata": {},
   "outputs": [
    {
     "data": {
      "text/plain": [
       "0.5348982226255337"
      ]
     },
     "execution_count": 32,
     "metadata": {},
     "output_type": "execute_result"
    }
   ],
   "source": [
    "bagg=BaggingRegressor()\n",
    "model_bagg=bagg.fit(x_train,y_train)\n",
    "pred_bagg=model_bagg.predict(x_test)\n",
    "r2_score(y_test,pred_bagg)"
   ]
  },
  {
   "cell_type": "code",
   "execution_count": 42,
   "id": "105fd5df",
   "metadata": {},
   "outputs": [
    {
     "data": {
      "text/plain": [
       "0.5603226268313425"
      ]
     },
     "execution_count": 42,
     "metadata": {},
     "output_type": "execute_result"
    }
   ],
   "source": [
    "gdb=GradientBoostingRegressor()\n",
    "model_gdb=gdb.fit(x_train,y_train)\n",
    "pred_gdb=model_gdb.predict(x_test)\n",
    "r2_score(y_test,pred_gdb)"
   ]
  },
  {
   "cell_type": "code",
   "execution_count": 34,
   "id": "8cd7b454",
   "metadata": {},
   "outputs": [
    {
     "data": {
      "text/plain": [
       "-0.8605418642740221"
      ]
     },
     "execution_count": 34,
     "metadata": {},
     "output_type": "execute_result"
    }
   ],
   "source": [
    "pre=Perceptron()\n",
    "model_pre=pre.fit(x_train,y_train)\n",
    "pred_pre=model_pre.predict(x_test)\n",
    "r2_score(y_test,pred_pre)"
   ]
  },
  {
   "cell_type": "code",
   "execution_count": 35,
   "id": "1fe7f549",
   "metadata": {},
   "outputs": [
    {
     "data": {
      "text/plain": [
       "0.49808172250230087"
      ]
     },
     "execution_count": 35,
     "metadata": {},
     "output_type": "execute_result"
    }
   ],
   "source": [
    "svr=SVR()\n",
    "model_svr=svr.fit(x_train,y_train)\n",
    "pred_svr=model_svr.predict(x_test)\n",
    "r2_score(y_test,pred_svr)"
   ]
  },
  {
   "cell_type": "code",
   "execution_count": 36,
   "id": "b5921b1d",
   "metadata": {},
   "outputs": [
    {
     "data": {
      "text/plain": [
       "0.5446592662755378"
      ]
     },
     "execution_count": 36,
     "metadata": {},
     "output_type": "execute_result"
    }
   ],
   "source": [
    "hgdb=HistGradientBoostingRegressor()\n",
    "model_hgdb=hgdb.fit(x_train,y_train)\n",
    "pred_hgdb=model_hgdb.predict(x_test)\n",
    "r2_score(y_test,pred_hgdb)"
   ]
  },
  {
   "cell_type": "code",
   "execution_count": null,
   "id": "18e5fb30",
   "metadata": {},
   "outputs": [],
   "source": []
  },
  {
   "cell_type": "code",
   "execution_count": null,
   "id": "6d884a62",
   "metadata": {},
   "outputs": [],
   "source": []
  },
  {
   "cell_type": "code",
   "execution_count": null,
   "id": "5e7cb523",
   "metadata": {},
   "outputs": [],
   "source": []
  },
  {
   "cell_type": "code",
   "execution_count": null,
   "id": "9ff8ad04",
   "metadata": {},
   "outputs": [],
   "source": []
  },
  {
   "cell_type": "code",
   "execution_count": null,
   "id": "088bc249",
   "metadata": {},
   "outputs": [],
   "source": []
  },
  {
   "cell_type": "code",
   "execution_count": null,
   "id": "3b222eb0",
   "metadata": {},
   "outputs": [],
   "source": []
  },
  {
   "cell_type": "code",
   "execution_count": null,
   "id": "1078dc39",
   "metadata": {},
   "outputs": [],
   "source": []
  },
  {
   "cell_type": "code",
   "execution_count": 37,
   "id": "e0c379e7",
   "metadata": {},
   "outputs": [],
   "source": [
    "from sklearn.linear_model import LogisticRegression\n",
    "from sklearn.tree import DecisionTreeClassifier\n",
    "from sklearn.ensemble import RandomForestClassifier\n",
    "from sklearn.svm import SVC\n",
    "from sklearn.metrics import accuracy_score, confusion_matrix"
   ]
  },
  {
   "cell_type": "code",
   "execution_count": 38,
   "id": "587875db",
   "metadata": {},
   "outputs": [
    {
     "data": {
      "text/html": [
       "<div>\n",
       "<style scoped>\n",
       "    .dataframe tbody tr th:only-of-type {\n",
       "        vertical-align: middle;\n",
       "    }\n",
       "\n",
       "    .dataframe tbody tr th {\n",
       "        vertical-align: top;\n",
       "    }\n",
       "\n",
       "    .dataframe thead th {\n",
       "        text-align: right;\n",
       "    }\n",
       "</style>\n",
       "<table border=\"1\" class=\"dataframe\">\n",
       "  <thead>\n",
       "    <tr style=\"text-align: right;\">\n",
       "      <th></th>\n",
       "      <th>0</th>\n",
       "    </tr>\n",
       "  </thead>\n",
       "  <tbody>\n",
       "    <tr>\n",
       "      <th>0</th>\n",
       "      <td>12</td>\n",
       "    </tr>\n",
       "    <tr>\n",
       "      <th>1</th>\n",
       "      <td>13</td>\n",
       "    </tr>\n",
       "    <tr>\n",
       "      <th>2</th>\n",
       "      <td>151</td>\n",
       "    </tr>\n",
       "    <tr>\n",
       "      <th>3</th>\n",
       "      <td>325</td>\n",
       "    </tr>\n",
       "    <tr>\n",
       "      <th>4</th>\n",
       "      <td>341</td>\n",
       "    </tr>\n",
       "    <tr>\n",
       "      <th>5</th>\n",
       "      <td>13</td>\n",
       "    </tr>\n",
       "    <tr>\n",
       "      <th>6</th>\n",
       "      <td>14</td>\n",
       "    </tr>\n",
       "    <tr>\n",
       "      <th>7</th>\n",
       "      <td>96</td>\n",
       "    </tr>\n",
       "    <tr>\n",
       "      <th>8</th>\n",
       "      <td>259</td>\n",
       "    </tr>\n",
       "    <tr>\n",
       "      <th>9</th>\n",
       "      <td>11</td>\n",
       "    </tr>\n",
       "  </tbody>\n",
       "</table>\n",
       "</div>"
      ],
      "text/plain": [
       "     0\n",
       "0   12\n",
       "1   13\n",
       "2  151\n",
       "3  325\n",
       "4  341\n",
       "5   13\n",
       "6   14\n",
       "7   96\n",
       "8  259\n",
       "9   11"
      ]
     },
     "execution_count": 38,
     "metadata": {},
     "output_type": "execute_result"
    }
   ],
   "source": [
    "lor=LogisticRegression()\n",
    "model_lor=lor.fit(x_train,y_train)\n",
    "pred_lor=model_lor.predict(x_test)\n",
    "pred_lor_data=pd.DataFrame(pred_lor)\n",
    "pred_lor_data.head(10)"
   ]
  },
  {
   "cell_type": "code",
   "execution_count": 39,
   "id": "338c2698",
   "metadata": {},
   "outputs": [
    {
     "data": {
      "text/plain": [
       "0.009819967266775777"
      ]
     },
     "execution_count": 39,
     "metadata": {},
     "output_type": "execute_result"
    }
   ],
   "source": [
    "accuracy_score(y_test,pred_lor)"
   ]
  },
  {
   "cell_type": "code",
   "execution_count": 40,
   "id": "3f2f54b6",
   "metadata": {},
   "outputs": [
    {
     "data": {
      "text/plain": [
       "0.027277686852154936"
      ]
     },
     "execution_count": 40,
     "metadata": {},
     "output_type": "execute_result"
    }
   ],
   "source": [
    "rff=RandomForestClassifier()\n",
    "model_rff=rff.fit(x_train,y_train)\n",
    "pred_rff=model_rff.predict(x_test)\n",
    "accuracy_score(y_test,pred_rff)"
   ]
  },
  {
   "cell_type": "code",
   "execution_count": 41,
   "id": "0d16e279",
   "metadata": {},
   "outputs": [
    {
     "data": {
      "text/plain": [
       "0.019639934533551555"
      ]
     },
     "execution_count": 41,
     "metadata": {},
     "output_type": "execute_result"
    }
   ],
   "source": [
    "dtt=DecisionTreeClassifier()\n",
    "model_dtt=dtt.fit(x_train,y_train)\n",
    "pred_dtt=model_dtt.predict(x_test)\n",
    "accuracy_score(y_test,pred_dtt)"
   ]
  },
  {
   "cell_type": "code",
   "execution_count": null,
   "id": "c9015a25",
   "metadata": {},
   "outputs": [],
   "source": []
  }
 ],
 "metadata": {
  "kernelspec": {
   "display_name": "Python 3 (ipykernel)",
   "language": "python",
   "name": "python3"
  },
  "language_info": {
   "codemirror_mode": {
    "name": "ipython",
    "version": 3
   },
   "file_extension": ".py",
   "mimetype": "text/x-python",
   "name": "python",
   "nbconvert_exporter": "python",
   "pygments_lexer": "ipython3",
   "version": "3.9.12"
  }
 },
 "nbformat": 4,
 "nbformat_minor": 5
}
